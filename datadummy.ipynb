{
  "nbformat": 4,
  "nbformat_minor": 0,
  "metadata": {
    "colab": {
      "provenance": [],
      "gpuType": "T4",
      "authorship_tag": "ABX9TyM1ycx0G9EOFf2WFnYydH7I",
      "include_colab_link": true
    },
    "kernelspec": {
      "name": "python3",
      "display_name": "Python 3"
    },
    "language_info": {
      "name": "python"
    },
    "accelerator": "GPU"
  },
  "cells": [
    {
      "cell_type": "markdown",
      "metadata": {
        "id": "view-in-github",
        "colab_type": "text"
      },
      "source": [
        "<a href=\"https://colab.research.google.com/github/LutherGea/m1-project-ai/blob/main/datadummy.ipynb\" target=\"_parent\"><img src=\"https://colab.research.google.com/assets/colab-badge.svg\" alt=\"Open In Colab\"/></a>"
      ]
    },
    {
      "cell_type": "code",
      "execution_count": 1,
      "metadata": {
        "colab": {
          "base_uri": "https://localhost:8080/"
        },
        "id": "QK8VtdLGSkBz",
        "outputId": "c26a5575-cf59-479b-d964-25eb8392ed1c"
      },
      "outputs": [
        {
          "output_type": "stream",
          "name": "stdout",
          "text": [
            "   id                                               text    kategori\n",
            "0   1      Produk yang saya terima rusak saat pengiriman      Produk\n",
            "1   2  Pembayaran saya sudah dilakukan tapi status ma...  Pembayaran\n",
            "2   3  Pesanan saya terlambat sampai 5 hari dari esti...  Pengiriman\n",
            "3   4          Ukuran baju tidak sesuai dengan deskripsi      Produk\n",
            "4   5  Saya sudah transfer tapi tidak ada konfirmasi ...  Pembayaran\n"
          ]
        }
      ],
      "source": [
        "import pandas as pd\n",
        "\n",
        "data = {\n",
        "    \"id\": [1, 2, 3, 4, 5],\n",
        "    \"text\": [\n",
        "        \"Produk yang saya terima rusak saat pengiriman\",\n",
        "        \"Pembayaran saya sudah dilakukan tapi status masih pending\",\n",
        "        \"Pesanan saya terlambat sampai 5 hari dari estimasi\",\n",
        "        \"Ukuran baju tidak sesuai dengan deskripsi\",\n",
        "        \"Saya sudah transfer tapi tidak ada konfirmasi pembayaran\"\n",
        "    ],\n",
        "    \"kategori\": [\"Produk\", \"Pembayaran\", \"Pengiriman\", \"Produk\", \"Pembayaran\"]\n",
        "}\n",
        "\n",
        "df = pd.DataFrame(data)\n",
        "print(df)\n"
      ]
    }
  ]
}